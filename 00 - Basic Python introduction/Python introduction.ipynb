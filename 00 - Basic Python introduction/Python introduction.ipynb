{
 "cells": [
  {
   "cell_type": "markdown",
   "metadata": {},
   "source": [
    "# Introduction to Python for Natural Language Processing\n",
    "\n",
    "<sup>This notebook is a part of Natural Language Processing class at the University of Ljubljana, Faculty for computer and information science. Please contact [slavko.zitnik@fri.uni-lj.si](mailto:slavko.zitnik@fri.uni-lj.si) for any comments.</sub>"
   ]
  },
  {
   "cell_type": "code",
   "execution_count": 1,
   "metadata": {},
   "outputs": [],
   "source": [
    "import sklearn\n",
    "import nltk\n",
    "import matplotlib"
   ]
  },
  {
   "cell_type": "markdown",
   "metadata": {},
   "source": [
    "Let's download all the corpora from the NLTK library. See the project's README ..."
   ]
  },
  {
   "cell_type": "markdown",
   "metadata": {},
   "source": [
    "## Short introduction to Python\n",
    "\n",
    "For more check the [official documentation](https://docs.python.org/3.10/) for Python 3.10, browse for online tutorials or just try to start coding.\n",
    "\n",
    "### Basics\n",
    "\n",
    "Let's first say hello:"
   ]
  },
  {
   "cell_type": "code",
   "execution_count": 2,
   "metadata": {},
   "outputs": [
    {
     "name": "stdout",
     "output_type": "stream",
     "text": [
      "Hello text!\n"
     ]
    }
   ],
   "source": [
    "print(\"Hello text!\")"
   ]
  },
  {
   "cell_type": "markdown",
   "metadata": {},
   "source": [
    "Now try some arithmetic operations:"
   ]
  },
  {
   "cell_type": "code",
   "execution_count": 3,
   "metadata": {},
   "outputs": [
    {
     "data": {
      "text/plain": [
       "2"
      ]
     },
     "execution_count": 3,
     "metadata": {},
     "output_type": "execute_result"
    }
   ],
   "source": [
    "1+1"
   ]
  },
  {
   "cell_type": "code",
   "execution_count": 4,
   "metadata": {},
   "outputs": [
    {
     "data": {
      "text/plain": [
       "4"
      ]
     },
     "execution_count": 4,
     "metadata": {},
     "output_type": "execute_result"
    }
   ],
   "source": [
    "a = 1 + 3\n",
    "a"
   ]
  },
  {
   "cell_type": "code",
   "execution_count": 5,
   "metadata": {},
   "outputs": [
    {
     "data": {
      "text/plain": [
       "'55555'"
      ]
     },
     "execution_count": 5,
     "metadata": {},
     "output_type": "execute_result"
    }
   ],
   "source": [
    "\"5\" * 5"
   ]
  },
  {
   "cell_type": "code",
   "execution_count": 6,
   "metadata": {},
   "outputs": [
    {
     "ename": "TypeError",
     "evalue": "can only concatenate str (not \"int\") to str",
     "output_type": "error",
     "traceback": [
      "\u001b[0;31m---------------------------------------------------------------------------\u001b[0m",
      "\u001b[0;31mTypeError\u001b[0m                                 Traceback (most recent call last)",
      "Cell \u001b[0;32mIn[6], line 1\u001b[0m\n\u001b[0;32m----> 1\u001b[0m \u001b[38;5;124;43m\"\u001b[39;49m\u001b[38;5;124;43m5\u001b[39;49m\u001b[38;5;124;43m\"\u001b[39;49m\u001b[43m \u001b[49m\u001b[38;5;241;43m+\u001b[39;49m\u001b[43m \u001b[49m\u001b[38;5;241;43m5\u001b[39;49m\n",
      "\u001b[0;31mTypeError\u001b[0m: can only concatenate str (not \"int\") to str"
     ]
    }
   ],
   "source": [
    "\"5\" + 5"
   ]
  },
  {
   "cell_type": "markdown",
   "metadata": {},
   "source": [
    "Number operations."
   ]
  },
  {
   "cell_type": "code",
   "execution_count": 7,
   "metadata": {},
   "outputs": [
    {
     "data": {
      "text/plain": [
       "1.5"
      ]
     },
     "execution_count": 7,
     "metadata": {},
     "output_type": "execute_result"
    }
   ],
   "source": [
    "5 / 2 - 1"
   ]
  },
  {
   "cell_type": "code",
   "execution_count": 8,
   "metadata": {},
   "outputs": [
    {
     "data": {
      "text/plain": [
       "0.8571428571428571"
      ]
     },
     "execution_count": 8,
     "metadata": {},
     "output_type": "execute_result"
    }
   ],
   "source": [
    "number = 6/7\n",
    "number"
   ]
  },
  {
   "cell_type": "code",
   "execution_count": 9,
   "metadata": {},
   "outputs": [
    {
     "data": {
      "text/plain": [
       "0.86"
      ]
     },
     "execution_count": 9,
     "metadata": {},
     "output_type": "execute_result"
    }
   ],
   "source": [
    "round(number, 2)"
   ]
  },
  {
   "cell_type": "code",
   "execution_count": 10,
   "metadata": {
    "scrolled": true
   },
   "outputs": [
    {
     "data": {
      "text/plain": [
       "' 0.86'"
      ]
     },
     "execution_count": 10,
     "metadata": {},
     "output_type": "execute_result"
    }
   ],
   "source": [
    "\"{:5.2}\".format(number)"
   ]
  },
  {
   "cell_type": "code",
   "execution_count": 11,
   "metadata": {
    "scrolled": true
   },
   "outputs": [
    {
     "data": {
      "text/plain": [
       "' 0.86'"
      ]
     },
     "execution_count": 11,
     "metadata": {},
     "output_type": "execute_result"
    }
   ],
   "source": [
    "f\"{number:5.2}\""
   ]
  },
  {
   "cell_type": "markdown",
   "metadata": {},
   "source": [
    "### Strings\n",
    "\n",
    "We will work with strings a lot. Remember that a string behaves similar to list as it is a list of characters."
   ]
  },
  {
   "cell_type": "code",
   "execution_count": 12,
   "metadata": {},
   "outputs": [
    {
     "data": {
      "text/plain": [
       "'William Shakespeare was an English poet, playwright, and actor'"
      ]
     },
     "execution_count": 12,
     "metadata": {},
     "output_type": "execute_result"
    }
   ],
   "source": [
    "# Now let's start to play with strings\n",
    "willy = \"William Shakespeare was an English poet, playwright, and actor\" \n",
    "willy"
   ]
  },
  {
   "cell_type": "code",
   "execution_count": 13,
   "metadata": {},
   "outputs": [
    {
     "data": {
      "text/plain": [
       "\"The last word is: 'actor'\""
      ]
     },
     "execution_count": 13,
     "metadata": {},
     "output_type": "execute_result"
    }
   ],
   "source": [
    "\"The last word is: '\" + willy[-5:] + \"'\""
   ]
  },
  {
   "cell_type": "markdown",
   "metadata": {},
   "source": [
    "How could you print the first word only?"
   ]
  },
  {
   "cell_type": "code",
   "execution_count": 14,
   "metadata": {},
   "outputs": [
    {
     "data": {
      "text/plain": [
       "'William'"
      ]
     },
     "execution_count": 14,
     "metadata": {},
     "output_type": "execute_result"
    }
   ],
   "source": [
    "willy[0:7]"
   ]
  },
  {
   "cell_type": "code",
   "execution_count": 15,
   "metadata": {},
   "outputs": [
    {
     "data": {
      "text/plain": [
       "35"
      ]
     },
     "execution_count": 15,
     "metadata": {},
     "output_type": "execute_result"
    }
   ],
   "source": [
    "willy.find('poet') #finds position of substring within string"
   ]
  },
  {
   "cell_type": "markdown",
   "metadata": {},
   "source": [
    "Character-level operations."
   ]
  },
  {
   "cell_type": "code",
   "execution_count": 16,
   "metadata": {},
   "outputs": [
    {
     "data": {
      "text/plain": [
       "'WILLIAM and shakespeare'"
      ]
     },
     "execution_count": 16,
     "metadata": {},
     "output_type": "execute_result"
    }
   ],
   "source": [
    "willy[0:7].upper() +' and '+ willy[8:19].lower() # turn to upper or lower case."
   ]
  },
  {
   "cell_type": "code",
   "execution_count": 17,
   "metadata": {},
   "outputs": [
    {
     "data": {
      "text/plain": [
       "'Wiljam'"
      ]
     },
     "execution_count": 17,
     "metadata": {},
     "output_type": "execute_result"
    }
   ],
   "source": [
    "willy[0:7].replace(\"li\", \"j\") # replace a substring 'li' in the string with 'j'. "
   ]
  },
  {
   "cell_type": "markdown",
   "metadata": {},
   "source": [
    "Importing a string module."
   ]
  },
  {
   "cell_type": "code",
   "execution_count": 18,
   "metadata": {},
   "outputs": [],
   "source": [
    "import string"
   ]
  },
  {
   "cell_type": "code",
   "execution_count": 19,
   "metadata": {},
   "outputs": [
    {
     "data": {
      "text/plain": [
       "True"
      ]
     },
     "execution_count": 19,
     "metadata": {},
     "output_type": "execute_result"
    }
   ],
   "source": [
    "\"?\" in string.punctuation"
   ]
  },
  {
   "cell_type": "markdown",
   "metadata": {},
   "source": [
    "What is a *string.punctuation*?"
   ]
  },
  {
   "cell_type": "code",
   "execution_count": 20,
   "metadata": {},
   "outputs": [
    {
     "name": "stdout",
     "output_type": "stream",
     "text": [
      "!\"#$%&'()*+,-./:;<=>?@[\\]^_`{|}~\n"
     ]
    }
   ],
   "source": [
    "print(string.punctuation)"
   ]
  },
  {
   "cell_type": "markdown",
   "metadata": {},
   "source": [
    "### Lists"
   ]
  },
  {
   "cell_type": "code",
   "execution_count": 21,
   "metadata": {},
   "outputs": [
    {
     "data": {
      "text/plain": [
       "[1, 2, '3']"
      ]
     },
     "execution_count": 21,
     "metadata": {},
     "output_type": "execute_result"
    }
   ],
   "source": [
    "list = [1,2,\"3\"]\n",
    "list"
   ]
  },
  {
   "cell_type": "markdown",
   "metadata": {},
   "source": [
    "Inline for loop."
   ]
  },
  {
   "cell_type": "code",
   "execution_count": 22,
   "metadata": {},
   "outputs": [
    {
     "data": {
      "text/plain": [
       "[2, 4, '33']"
      ]
     },
     "execution_count": 22,
     "metadata": {},
     "output_type": "execute_result"
    }
   ],
   "source": [
    "multiplied = [item * 2 for item in list]\n",
    "multiplied"
   ]
  },
  {
   "cell_type": "markdown",
   "metadata": {},
   "source": [
    "For loop with a filter."
   ]
  },
  {
   "cell_type": "code",
   "execution_count": 23,
   "metadata": {},
   "outputs": [
    {
     "data": {
      "text/plain": [
       "[1, 2]"
      ]
     },
     "execution_count": 23,
     "metadata": {},
     "output_type": "execute_result"
    }
   ],
   "source": [
    "filtered = [item for item in list if int(item) < 3]\n",
    "filtered"
   ]
  },
  {
   "cell_type": "markdown",
   "metadata": {},
   "source": [
    "Basic list operations."
   ]
  },
  {
   "cell_type": "code",
   "execution_count": 24,
   "metadata": {},
   "outputs": [
    {
     "data": {
      "text/plain": [
       "['William',\n",
       " 'Shakespeare',\n",
       " 'was',\n",
       " 'an',\n",
       " 'English',\n",
       " 'poet,',\n",
       " 'playwright,',\n",
       " 'and',\n",
       " 'actor']"
      ]
     },
     "execution_count": 24,
     "metadata": {},
     "output_type": "execute_result"
    }
   ],
   "source": [
    "words = willy.split(\" \")\n",
    "words"
   ]
  },
  {
   "cell_type": "code",
   "execution_count": 25,
   "metadata": {},
   "outputs": [
    {
     "data": {
      "text/plain": [
       "9"
      ]
     },
     "execution_count": 25,
     "metadata": {},
     "output_type": "execute_result"
    }
   ],
   "source": [
    "len(words) # length of the list"
   ]
  },
  {
   "cell_type": "markdown",
   "metadata": {},
   "source": [
    "Get the last word from the list:"
   ]
  },
  {
   "cell_type": "code",
   "execution_count": 26,
   "metadata": {},
   "outputs": [
    {
     "data": {
      "text/plain": [
       "'actor'"
      ]
     },
     "execution_count": 26,
     "metadata": {},
     "output_type": "execute_result"
    }
   ],
   "source": [
    "words[len(words)-1]"
   ]
  },
  {
   "cell_type": "code",
   "execution_count": 27,
   "metadata": {},
   "outputs": [
    {
     "data": {
      "text/plain": [
       "['William',\n",
       " 'Shakespeare',\n",
       " 'was',\n",
       " 'an',\n",
       " 'English',\n",
       " 'poet,',\n",
       " 'playwright,',\n",
       " 'and',\n",
       " 'actor',\n",
       " '.']"
      ]
     },
     "execution_count": 27,
     "metadata": {},
     "output_type": "execute_result"
    }
   ],
   "source": [
    "words.append(\".\")\n",
    "words"
   ]
  },
  {
   "cell_type": "code",
   "execution_count": 28,
   "metadata": {},
   "outputs": [
    {
     "data": {
      "text/plain": [
       "['.',\n",
       " 'English',\n",
       " 'Shakespeare',\n",
       " 'William',\n",
       " 'actor',\n",
       " 'an',\n",
       " 'and',\n",
       " 'playwright,',\n",
       " 'poet,',\n",
       " 'was']"
      ]
     },
     "execution_count": 28,
     "metadata": {},
     "output_type": "execute_result"
    }
   ],
   "source": [
    "sorted(words)"
   ]
  },
  {
   "cell_type": "code",
   "execution_count": 29,
   "metadata": {},
   "outputs": [
    {
     "data": {
      "text/plain": [
       "'William Shakespeare was an English poet, playwright, and actor .'"
      ]
     },
     "execution_count": 29,
     "metadata": {},
     "output_type": "execute_result"
    }
   ],
   "source": [
    "\" \".join(words)"
   ]
  },
  {
   "cell_type": "markdown",
   "metadata": {},
   "source": [
    "Why is comma together with the word but dot separated from the last word?"
   ]
  },
  {
   "cell_type": "markdown",
   "metadata": {},
   "source": [
    "Standalone for loop."
   ]
  },
  {
   "cell_type": "code",
   "execution_count": 30,
   "metadata": {
    "scrolled": true
   },
   "outputs": [
    {
     "name": "stdout",
     "output_type": "stream",
     "text": [
      "Short word 'was' is at index 2.\n",
      "Short word 'an ' is at index 3.\n",
      "Short word 'and' is at index 7.\n",
      "Short word '.  ' is at index 9.\n"
     ]
    }
   ],
   "source": [
    "for i, word in enumerate(words):\n",
    "    if len(word) <= 3:\n",
    "        print(f\"Short word '{word:3}' is at index {i}.\")"
   ]
  },
  {
   "cell_type": "markdown",
   "metadata": {},
   "source": [
    "## Using the NLTK library\n",
    "\n",
    "In this part we will show some basic operations on text using the NLTK library. First we need to import the needed libraries."
   ]
  },
  {
   "cell_type": "code",
   "execution_count": 31,
   "metadata": {},
   "outputs": [],
   "source": [
    "import nltk\n",
    "import string"
   ]
  },
  {
   "cell_type": "markdown",
   "metadata": {},
   "source": [
    "NLTK library features also its own repository of sources which you can download for some functions to work (e.g. tokenizer). It offers a function that downloads selected resources to you %HOME% folder."
   ]
  },
  {
   "cell_type": "code",
   "execution_count": 32,
   "metadata": {},
   "outputs": [
    {
     "name": "stderr",
     "output_type": "stream",
     "text": [
      "[nltk_data] Downloading package punkt to /Users/slavkoz/nltk_data...\n",
      "[nltk_data]   Package punkt is already up-to-date!\n",
      "[nltk_data] Downloading package stopwords to\n",
      "[nltk_data]     /Users/slavkoz/nltk_data...\n",
      "[nltk_data]   Package stopwords is already up-to-date!\n"
     ]
    },
    {
     "data": {
      "text/plain": [
       "True"
      ]
     },
     "execution_count": 32,
     "metadata": {},
     "output_type": "execute_result"
    }
   ],
   "source": [
    "# Function without parameters will open a UI where you can select and download resources\n",
    "# nltk.download() \n",
    "\n",
    "# Otherwise, selected resources can be entered as a parameter to the function\n",
    "# If you have not downloaded a resource, you get an error saying which one is missing\n",
    "nltk.download(\"punkt\")\n",
    "nltk.download(\"stopwords\")"
   ]
  },
  {
   "cell_type": "markdown",
   "metadata": {},
   "source": [
    "The function below will read a text file into string, do some operations on it and return a list of tokens. Why is better to use `nltk.word_tokenize()` method instead of `string.split()` method?"
   ]
  },
  {
   "cell_type": "code",
   "execution_count": 33,
   "metadata": {},
   "outputs": [],
   "source": [
    "def getTokens():\n",
    "   with open('shakespeare.txt', 'r') as shakes:\n",
    "    text = shakes.read().lower()\n",
    "    \n",
    "    # remove punctuation\n",
    "    table = text.maketrans({key: None for key in string.punctuation})\n",
    "    text = text.translate(table)  \n",
    "    \n",
    "    tokens = nltk.word_tokenize(text)\n",
    "    \n",
    "    return tokens"
   ]
  },
  {
   "cell_type": "markdown",
   "metadata": {},
   "source": [
    "We are first interested in number of times each word appears. For that we use `FreqDist` class."
   ]
  },
  {
   "cell_type": "code",
   "execution_count": 34,
   "metadata": {},
   "outputs": [
    {
     "data": {
      "text/plain": [
       "FreqDist({'and': 63, 'the': 52, 'to': 36, 'i': 32, 'of': 28, 'that': 27, 'in': 27, 'my': 26, 'for': 22, 'be': 21, ...})"
      ]
     },
     "execution_count": 34,
     "metadata": {},
     "output_type": "execute_result"
    }
   ],
   "source": [
    "from nltk import FreqDist\n",
    "\n",
    "tokens = getTokens()\n",
    "freq = FreqDist(tokens)\n",
    "freq"
   ]
  },
  {
   "cell_type": "markdown",
   "metadata": {},
   "source": [
    "Keys of the dictionary are tokens and values are numbers of occurences of a key in the text. To get a list of tuples of type `(key, value)`, use `.items()` method."
   ]
  },
  {
   "cell_type": "code",
   "execution_count": 35,
   "metadata": {},
   "outputs": [
    {
     "data": {
      "text/plain": [
       "dict_keys(['this', 'young', 'gentlewoman', 'had', 'a', 'fathero', 'that', 'how', 'sad', 'passage', 'tiswhose', 'skill', 'was', 'almost', 'as', 'great', 'his', 'honesty', 'it', 'stretched', 'so', 'far', 'would', 'have', 'made', 'nature', 'immortal', 'and', 'death', 'should', 'play', 'for', 'lack', 'of', 'work', 'the', 'kings', 'sake', 'he', 'were', 'living', 'i', 'think', 'be', 'disease', 'excellent', 'indeed', 'madam', 'king', 'very', 'lately', 'spoke', 'him', 'admiringly', 'mourningly', 'skilful', 'enough', 'to', 'lived', 'still', 'if', 'knowledge', 'could', 'set', 'up', 'against', 'mortality', 'sole', 'child', 'my', 'lord', 'bequeathed', 'overlooking', 'those', 'hopes', 'her', 'good', 'education', 'promises', 'dispositions', 'she', 'inherits', 'which', 'makes', 'fair', 'gifts', 'fairer', 'where', 'an', 'unclean', 'mind', 'carries', 'virtuous', 'qualities', 'there', 'commendations', 'go', 'with', 'pity', 'they', 'are', 'virtues', 'traitors', 'too', 'in', 'better', 'their', 'simpleness', 'derives', 'achieves', 'goodness', 'thou', 'blest', 'bertram', 'succeed', 'thy', 'father', 'manners', 'shape', 'blood', 'virtue', 'contend', 'empire', 'thee', 'share', 'birthright', 'love', 'all', 'trust', 'few', 'do', 'wrong', 'none', 'able', 'thine', 'enemy', 'rather', 'power', 'than', 'use', 'keep', 'friend', 'under', 'own', 'lifes', 'key', 'chequed', 'silence', 'but', 'never', 'taxd', 'speech', 'what', 'heaven', 'more', 'will', 'may', 'furnish', 'prayers', 'pluck', 'down', 'fall', 'on', 'head', 'farewell', 'tis', 'unseasond', 'courtier', 'advise', 'o', 'not', 'these', 'tears', 'grace', 'remembrance', 'shed', 'like', 'forgot', 'imagination', 'no', 'favour', 'int', 'bertrams', 'am', 'undone', 'is', 'away', 'twere', 'one', 'bright', 'particular', 'star', 'wed', 'above', 'me', 'radiance', 'collateral', 'light', 'must', 'comforted', 'sphere', 'ambition', 'thus', 'plagues', 'itself', 'hind', 'mated', 'by', 'lion', 'die', 'twas', 'pretty', 'though', 'plague', 'see', 'every', 'hour', 'sit', 'draw', 'arched', 'brows', 'hawking', 'eye', 'curls', 'our', 'hearts', 'table', 'heart', 'capable', 'line', 'trick', 'sweet', 'now', 'hes', 'gone', 'idolatrous', 'fancy', 'sanctify', 'reliques', 'who', 'comes', 'here', 'theres', 'little', 'can', 'said', 't', 'rule', 'speak', 'part', 'virginity', 'accuse', 'your', 'mothers', 'most', 'infallible', 'disobedience', 'hangs', 'himself', 'virgin', 'murders', 'buried', 'highways', 'out', 'sanctified', 'limit', 'desperate', 'offendress', 'breeds', 'mites', 'much', 'cheese', 'consumes', 'paring', 'dies', 'feeding', 'stomach', 'besides', 'peevish', 'proud', 'idle', 'selflove', 'inhibited', 'sin', 'canon', 'you', 'choose', 'loose', 'byt', 'within', 'ten', 'year', 'make', 'goodly', 'increase', 'principal', 'worse', 'remedies', 'oft', 'ourselves', 'lie', 'we', 'ascribe', 'fated', 'sky', 'gives', 'us', 'free', 'scope', 'only', 'doth', 'backward', 'pull', 'slow', 'designs', 'when', 'dull', 'mounts', 'high', 'feed', 'mine', 'mightiest', 'space', 'fortune', 'brings', 'join', 'likes', 'kiss', 'native', 'things', 'impossible', 'strange', 'attempts', 'weigh', 'pains', 'sense', 'suppose', 'hath', 'been', 'ever', 'strove', 'show', 'merit', 'did', 'miss', 'diseasemy', 'project', 'deceive', 'intents', 'fixd', 'leave', 'yes', 'into', 'thousand', 'similes', 'first', 'weeping', 'needless', 'stream', 'poor', 'deer', 'quoth', 'makest', 'testament', 'worldlings', 'giving', 'sum', 'then', 'being', 'alone', 'left', 'abandond', 'velvet', 'friends', 'right', 'misery', 'flux', 'company', 'anon', 'careless', 'herd', 'full', 'pasture', 'jumps', 'along', 'stays', 'greet', 'ay', 'jaques', 'sweep', 'fat', 'greasy', 'citizens', 'just', 'fashion', 'wherefore', 'look', 'upon', 'broken', 'bankrupt', 'invectively', 'pierceth', 'through', 'body', 'country', 'city', 'court', 'yea', 'life', 'swearing', 'mere', 'usurpers', 'tyrants', 'whats', 'fright', 'animals', 'kill', 'them', 'assignd', 'dwellingplace', 'roynish', 'clown', 'at', 'whom', 'wont', 'laugh', 'also', 'missing', 'hisperia', 'princess', 'confesses', 'secretly', 'oerheard', 'daughter', 'cousin', 'commend', 'parts', 'graces', 'wrestler', 'foil', 'sinewy', 'charles', 'believes', 'wherever', 'youth', 'surely', 'master', 'gentle', 'memory', 'old', 'sir', 'rowland', 'why', 'people', 'strong', 'valiant', 'fond', 'overcome', 'bonny', 'priser', 'humorous', 'duke', 'praise', 'come', 'swiftly', 'home', 'before', 'know', 'some', 'kind', 'men', 'serve', 'enemies', 'yours', 'holy', 'world', 'comely', 'envenoms', 'bears', 'five', 'hundred', 'crowns', 'thrifty', 'hire', 'saved', 'store', 'fosternurse', 'service', 'limbs', 'lame', 'unregarded', 'age', 'corners', 'thrown', 'take', 'ravens', 'providently', 'caters', 'sparrow', 'comfort', 'gold', 'give', 'let', 'servant', 'yet', 'lusty', 'apply', 'hot', 'rebellious', 'liquors', 'nor', 'unbashful', 'forehead', 'woo', 'means', 'weakness', 'debility', 'therefore', 'winter', 'frosty', 'kindly', 'ill', 'younger', 'man', 'business', 'necessities', 'well', 'appears', 'constant', 'antique', 'sweat', 'duty', 'meed', 'art', 'times', 'promotion', 'having', 'choke', 'even', 'prunest', 'rotten', 'tree', 'blossom', 'yield', 'lieu', 'husbandry', 'ways', 'together', 'ere', 'youthful', 'wages', 'spent', 'settled', 'low', 'content', 'follow', 'last', 'gasp', 'truth', 'loyalty', 'from', 'seventeen', 'years', 'till', 'fourscore', 'live', 'many', 'fortunes', 'seek', 'late', 'week', 'recompense', 'masters', 'debtor', 'beseech', 'punish', 'hard', 'thoughts', 'wherein', 'confess', 'guilty', 'deny', 'ladies', 'any', 'thing', 'eyes', 'wishes', 'trial', 'foiled', 'shamed', 'gracious', 'killed', 'dead', 'willing', 'shall', 'lament', 'injury', 'nothing', 'fill', 'place', 'supplied', 'empty', 'neither', 'judge', 'lesser', 'other', 'banishd', 'detaind', 'usurping', 'uncle', 'whose', 'loves', 'dearer', 'natural', 'bond', 'sisters', 'tell', 'taen', 'displeasure', 'gainst', 'niece', 'grounded', 'argument', 'fathers', 'malice', 'lady', 'suddenly', 'break', 'forth', 'fare', 'hereafter', 'desire', 'entreat', 'stay', 'pleasure', 'remorse', 'time', 'value', 'traitor', 'slept', 'rose', 'instant', 'learnd', 'playd', 'eat', 'wheresoever', 'went', 'junos', 'swans', 'coupled', 'inseparable', 'rosalind', 'lacks', 'teacheth', 'sunderd', 'girl', 'another', 'heir', 'devise', 'fly', 'whither', 'bear', 'change', 'griefs', 'yourself', 'sorrows', 'pale', 'say', 'canst'])"
      ]
     },
     "execution_count": 35,
     "metadata": {},
     "output_type": "execute_result"
    }
   ],
   "source": [
    "freq.keys()"
   ]
  },
  {
   "cell_type": "markdown",
   "metadata": {},
   "source": [
    "Hapaxes sre tokens that appear once in the text, let's see the first 20:"
   ]
  },
  {
   "cell_type": "code",
   "execution_count": 36,
   "metadata": {},
   "outputs": [
    {
     "data": {
      "text/plain": [
       "['fathero',\n",
       " 'sad',\n",
       " 'passage',\n",
       " 'tiswhose',\n",
       " 'skill',\n",
       " 'stretched',\n",
       " 'far',\n",
       " 'immortal',\n",
       " 'play',\n",
       " 'lack',\n",
       " 'work',\n",
       " 'disease',\n",
       " 'madam',\n",
       " 'king',\n",
       " 'spoke',\n",
       " 'admiringly',\n",
       " 'mourningly',\n",
       " 'skilful',\n",
       " 'enough',\n",
       " 'could']"
      ]
     },
     "execution_count": 36,
     "metadata": {},
     "output_type": "execute_result"
    }
   ],
   "source": [
    "freq.hapaxes()[:20]"
   ]
  },
  {
   "cell_type": "code",
   "execution_count": 37,
   "metadata": {},
   "outputs": [
    {
     "data": {
      "text/plain": [
       "[('and', 63),\n",
       " ('the', 52),\n",
       " ('to', 36),\n",
       " ('i', 32),\n",
       " ('of', 28),\n",
       " ('that', 27),\n",
       " ('in', 27),\n",
       " ('my', 26),\n",
       " ('for', 22),\n",
       " ('be', 21)]"
      ]
     },
     "execution_count": 37,
     "metadata": {},
     "output_type": "execute_result"
    }
   ],
   "source": [
    "sorted(freq.items(), key = lambda x: x[1], reverse = True)[:10]"
   ]
  },
  {
   "cell_type": "markdown",
   "metadata": {},
   "source": [
    "The frequency of the most commonly used words in the text:"
   ]
  },
  {
   "cell_type": "code",
   "execution_count": 38,
   "metadata": {},
   "outputs": [
    {
     "data": {
      "image/png": "[encoded data removed]",
      "text/plain": [
       "<Figure size 640x480 with 1 Axes>"
      ]
     },
     "metadata": {},
     "output_type": "display_data"
    },
    {
     "data": {
      "text/plain": [
       "<Axes: xlabel='Samples', ylabel='Counts'>"
      ]
     },
     "execution_count": 38,
     "metadata": {},
     "output_type": "execute_result"
    }
   ],
   "source": [
    "%matplotlib inline\n",
    "freq.plot(30) # frequencies of top 30 commonly used words"
   ]
  },
  {
   "cell_type": "markdown",
   "metadata": {},
   "source": [
    "Stopwords removal"
   ]
  },
  {
   "cell_type": "code",
   "execution_count": 39,
   "metadata": {},
   "outputs": [
    {
     "data": {
      "text/plain": [
       "['i',\n",
       " 'me',\n",
       " 'my',\n",
       " 'myself',\n",
       " 'we',\n",
       " 'our',\n",
       " 'ours',\n",
       " 'ourselves',\n",
       " 'you',\n",
       " \"you're\",\n",
       " \"you've\",\n",
       " \"you'll\",\n",
       " \"you'd\",\n",
       " 'your',\n",
       " 'yours',\n",
       " 'yourself',\n",
       " 'yourselves',\n",
       " 'he',\n",
       " 'him',\n",
       " 'his',\n",
       " 'himself',\n",
       " 'she',\n",
       " \"she's\",\n",
       " 'her',\n",
       " 'hers',\n",
       " 'herself',\n",
       " 'it',\n",
       " \"it's\",\n",
       " 'its',\n",
       " 'itself',\n",
       " 'they',\n",
       " 'them',\n",
       " 'their',\n",
       " 'theirs',\n",
       " 'themselves',\n",
       " 'what',\n",
       " 'which',\n",
       " 'who',\n",
       " 'whom',\n",
       " 'this',\n",
       " 'that',\n",
       " \"that'll\",\n",
       " 'these',\n",
       " 'those',\n",
       " 'am',\n",
       " 'is',\n",
       " 'are',\n",
       " 'was',\n",
       " 'were',\n",
       " 'be',\n",
       " 'been',\n",
       " 'being',\n",
       " 'have',\n",
       " 'has',\n",
       " 'had',\n",
       " 'having',\n",
       " 'do',\n",
       " 'does',\n",
       " 'did',\n",
       " 'doing',\n",
       " 'a',\n",
       " 'an',\n",
       " 'the',\n",
       " 'and',\n",
       " 'but',\n",
       " 'if',\n",
       " 'or',\n",
       " 'because',\n",
       " 'as',\n",
       " 'until',\n",
       " 'while',\n",
       " 'of',\n",
       " 'at',\n",
       " 'by',\n",
       " 'for',\n",
       " 'with',\n",
       " 'about',\n",
       " 'against',\n",
       " 'between',\n",
       " 'into',\n",
       " 'through',\n",
       " 'during',\n",
       " 'before',\n",
       " 'after',\n",
       " 'above',\n",
       " 'below',\n",
       " 'to',\n",
       " 'from',\n",
       " 'up',\n",
       " 'down',\n",
       " 'in',\n",
       " 'out',\n",
       " 'on',\n",
       " 'off',\n",
       " 'over',\n",
       " 'under',\n",
       " 'again',\n",
       " 'further',\n",
       " 'then',\n",
       " 'once',\n",
       " 'here',\n",
       " 'there',\n",
       " 'when',\n",
       " 'where',\n",
       " 'why',\n",
       " 'how',\n",
       " 'all',\n",
       " 'any',\n",
       " 'both',\n",
       " 'each',\n",
       " 'few',\n",
       " 'more',\n",
       " 'most',\n",
       " 'other',\n",
       " 'some',\n",
       " 'such',\n",
       " 'no',\n",
       " 'nor',\n",
       " 'not',\n",
       " 'only',\n",
       " 'own',\n",
       " 'same',\n",
       " 'so',\n",
       " 'than',\n",
       " 'too',\n",
       " 'very',\n",
       " 's',\n",
       " 't',\n",
       " 'can',\n",
       " 'will',\n",
       " 'just',\n",
       " 'don',\n",
       " \"don't\",\n",
       " 'should',\n",
       " \"should've\",\n",
       " 'now',\n",
       " 'd',\n",
       " 'll',\n",
       " 'm',\n",
       " 'o',\n",
       " 're',\n",
       " 've',\n",
       " 'y',\n",
       " 'ain',\n",
       " 'aren',\n",
       " \"aren't\",\n",
       " 'couldn',\n",
       " \"couldn't\",\n",
       " 'didn',\n",
       " \"didn't\",\n",
       " 'doesn',\n",
       " \"doesn't\",\n",
       " 'hadn',\n",
       " \"hadn't\",\n",
       " 'hasn',\n",
       " \"hasn't\",\n",
       " 'haven',\n",
       " \"haven't\",\n",
       " 'isn',\n",
       " \"isn't\",\n",
       " 'ma',\n",
       " 'mightn',\n",
       " \"mightn't\",\n",
       " 'mustn',\n",
       " \"mustn't\",\n",
       " 'needn',\n",
       " \"needn't\",\n",
       " 'shan',\n",
       " \"shan't\",\n",
       " 'shouldn',\n",
       " \"shouldn't\",\n",
       " 'wasn',\n",
       " \"wasn't\",\n",
       " 'weren',\n",
       " \"weren't\",\n",
       " 'won',\n",
       " \"won't\",\n",
       " 'wouldn',\n",
       " \"wouldn't\"]"
      ]
     },
     "execution_count": 39,
     "metadata": {},
     "output_type": "execute_result"
    }
   ],
   "source": [
    "from nltk.corpus import stopwords\n",
    "\n",
    "stopwords.words('english')"
   ]
  },
  {
   "cell_type": "markdown",
   "metadata": {},
   "source": [
    "Update the `tokens` above to delete all the stopwords from the text. How many tokens are returned by the method after that? Do also the results of the above code change?"
   ]
  },
  {
   "cell_type": "code",
   "execution_count": 40,
   "metadata": {},
   "outputs": [],
   "source": [
    "# TODO: get the number of tokens without stopwords"
   ]
  },
  {
   "cell_type": "markdown",
   "metadata": {},
   "source": [
    "What is the longest word in the text?"
   ]
  },
  {
   "cell_type": "code",
   "execution_count": 41,
   "metadata": {},
   "outputs": [],
   "source": [
    "# TODO: find the longest word from the text"
   ]
  },
  {
   "cell_type": "markdown",
   "metadata": {},
   "source": [
    "## Importing your own text\n",
    "\n",
    "Above, we have seen how to retrieve text from a local file. To retrieve text from the user input:"
   ]
  },
  {
   "cell_type": "code",
   "execution_count": 42,
   "metadata": {},
   "outputs": [],
   "source": [
    "text = input(\"Enter some text to the terminal: \")"
   ]
  },
  {
   "cell_type": "code",
   "execution_count": 43,
   "metadata": {},
   "outputs": [
    {
     "name": "stdout",
     "output_type": "stream",
     "text": [
      "The text you entered: 'John went to buy some milk.'\n"
     ]
    }
   ],
   "source": [
    "print(\"The text you entered: '{}'\".format(text))"
   ]
  },
  {
   "cell_type": "markdown",
   "metadata": {},
   "source": [
    "Retrieving text from online sources:"
   ]
  },
  {
   "cell_type": "code",
   "execution_count": 44,
   "metadata": {},
   "outputs": [],
   "source": [
    "import nltk\n",
    "from urllib.request import urlopen"
   ]
  },
  {
   "cell_type": "code",
   "execution_count": 45,
   "metadata": {},
   "outputs": [
    {
     "data": {
      "text/plain": [
       "b'<!DOCTYPE HTML PUBLIC \"-//W3C//DTD HTML 4.0 Transitional//EN\"\\n \"http://www.w3.org/TR/REC-html40/loose.dtd\">\\n <html>\\n <head>\\n <title>Hamlet: Entire Play\\n </title>\\n <meta http-equiv=\"Content-Type\" content=\"text/html; charset=iso-8859-1\">\\n <LINK rel=\"stylesheet\" type=\"text/css\" media=\"screen\"\\n       href=\"/shake.css\">\\n </HEAD>\\n <body bgcolor=\"#ffffff\" text=\"#000000\">\\n\\n<table width=\"100%\" bgcolor=\"#CCF6F6\">\\n<tr><td class=\"play\" align=\"center\">The Tragedy of Hamlet, Prince of Denmark\\n<tr><td class=\"nav\" align=\"center\">\\n      <a href=\"/Shakespeare\">Shakespeare homepage</A> \\n    | <A href=\"/hamlet/\">'"
      ]
     },
     "execution_count": 45,
     "metadata": {},
     "output_type": "execute_result"
    }
   ],
   "source": [
    "url = \"http://shakespeare.mit.edu/hamlet/full.html\"\n",
    "html = urlopen(url).read() \n",
    "html[:600]"
   ]
  },
  {
   "cell_type": "markdown",
   "metadata": {},
   "source": [
    "As you might see above, a lot of html tags are around the text that we would like to process. To remove HTML (or find some specific data within a HTML documen), we use a [BeautifulSoup](https://www.crummy.com/software/BeautifulSoup/) library ([documentation](https://www.crummy.com/software/BeautifulSoup/bs4/doc/))."
   ]
  },
  {
   "cell_type": "code",
   "execution_count": 46,
   "metadata": {},
   "outputs": [],
   "source": [
    "from bs4 import BeautifulSoup"
   ]
  },
  {
   "cell_type": "code",
   "execution_count": 47,
   "metadata": {},
   "outputs": [
    {
     "data": {
      "text/plain": [
       "\"\\n\\n\\nHamlet: Entire Play\\n \\n\\n\\n\\n\\n\\nThe Tragedy of Hamlet, Prince of Denmark\\n\\nShakespeare homepage \\n    | Hamlet \\n    | Entire play\\n\\nACT I\\nSCENE I. Elsinore. A platform before the castle.\\n\\nFRANCISCO at his post. Enter to him BERNARDO\\n\\nBERNARDO\\n\\nWho's there?\\n\\nFRANCISCO\\n\\nNay, answer me: stand, and unfold yourself.\\n\\nBERNARDO\\n\\nLong live the king!\\n\\nFRANCISCO\\n\\nBernardo?\\n\\nBERNARDO\\n\\nHe.\\n\\nFRANCISCO\\n\\nYou come most carefully upon your hour.\\n\\nBERNARDO\\n\\n'Tis now struck twelve; get thee to bed, Francisco.\\n\\nFRANCISCO\\n\\nFor this relief much thanks: 'tis bitter cold,\\nAnd I am sick at heart.\\n\\nBERNARDO\\n\\nHave you had qu\""
      ]
     },
     "execution_count": 47,
     "metadata": {},
     "output_type": "execute_result"
    }
   ],
   "source": [
    "soup = BeautifulSoup(html, 'html.parser')\n",
    "text = soup.get_text()\n",
    "text[:600]"
   ]
  },
  {
   "cell_type": "markdown",
   "metadata": {},
   "source": [
    "Is there a difference if you print the value of *text[:600]*?"
   ]
  },
  {
   "cell_type": "code",
   "execution_count": 48,
   "metadata": {},
   "outputs": [],
   "source": [
    "# TODO: print the value of text[:600] and observe the difference to the output above\n"
   ]
  },
  {
   "cell_type": "markdown",
   "metadata": {},
   "source": [
    "## Exercise\n",
    "\n",
    "We now know about the basics of text processing with Python 3.12 and NLTK 3.8. To validate your proficiency, perform the following:\n",
    "\n",
    "* Retrieve data from an online source (e.g.: books from [http://www.fullbooks.com](http://www.fullbooks.com), [http://www.readanybook.com](http://www.readanybook.com) or posts from [http://www.rtvslo.si/](http://www.rtvslo.si/)).\n",
    "* Process the data and report on results. Use the techniques we mentioned above, check the tools' documentation for additional techniques and use your imagination ..."
   ]
  }
 ],
 "metadata": {
  "interpreter": {
   "hash": "01177433f0851162315450b335338e6406a2a7628bedd81bccdf1273aab009ee"
  },
  "kernelspec": {
   "display_name": "Python [conda env:nlp-course-fri-2]",
   "language": "python",
   "name": "python3"
  },
  "language_info": {
   "codemirror_mode": {
    "name": "ipython",
    "version": 3
   },
   "file_extension": ".py",
   "mimetype": "text/x-python",
   "name": "python",
   "nbconvert_exporter": "python",
   "pygments_lexer": "ipython3",
   "version": "3.12.2"
  }
 },
 "nbformat": 4,
 "nbformat_minor": 4
}
