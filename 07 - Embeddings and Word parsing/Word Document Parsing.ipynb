{
 "cells": [
  {
   "cell_type": "markdown",
   "metadata": {},
   "source": [
    "# Word Documents Parsing showcase\n",
    "\n",
    "<sup>This notebook is a part of Natural Language Processing class at the University of Ljubljana, Faculty for computer and information science. Please contact [slavko.zitnik@fri.uni-lj.si](mailto:slavko.zitnik@fri.uni-lj.si) for any comments.</sub>\n",
    "\n",
    "In this notebook we will use [Aspose.Words](https://products.aspose.com/words/) library. For usage a license needs to be bought. Library documentation is available [here](https://docs.aspose.com/words/python-net/)."
   ]
  },
  {
   "cell_type": "code",
   "execution_count": 1,
   "metadata": {},
   "outputs": [],
   "source": [
    "import aspose.words as aw\n",
    "from ExtractContentHelper import ExtractContentHelper"
   ]
  },
  {
   "cell_type": "code",
   "execution_count": 2,
   "metadata": {},
   "outputs": [],
   "source": [
    "def clean_text(text):\n",
    "    return text"
   ]
  },
  {
   "cell_type": "code",
   "execution_count": 3,
   "metadata": {},
   "outputs": [],
   "source": [
    "def extract_comments(doc: aw.Document):\n",
    "    # Izgradnja slovarja za comment.id -> range.start\n",
    "    starts = {}\n",
    "    for s in doc.get_child_nodes(aw.NodeType.COMMENT_RANGE_START, True) :\n",
    "        range_start = s.as_comment_range_start()\n",
    "        starts[range_start.id] = range_start\n",
    "\n",
    "    # Izgradnja slovarja za comment.id -> range.end\n",
    "    ends = {}\n",
    "    for e in doc.get_child_nodes(aw.NodeType.COMMENT_RANGE_END, True) :\n",
    "        range_end = e.as_comment_range_end()\n",
    "        ends[range_end.id] = range_end\n",
    "\n",
    "    comments = doc.get_child_nodes(aw.NodeType.COMMENT, True)\n",
    "\n",
    "    print(\"Komentarji: \")\n",
    "    for node in comments:\n",
    "        comment = node.as_comment()\n",
    "        # Preskočimo odgovore na komentarje\n",
    "        if comment.ancestor:\n",
    "            continue\n",
    "\n",
    "        print(f\"---------------------\\n   KOMENTAR START\\n---------------------\")\n",
    "\n",
    "\n",
    "        author = comment.author\n",
    "        author_time = comment.date_time.strftime(\"%Y-%m-%d %H:%M:%S\")\n",
    "        comment_text = comment.to_string(aw.SaveFormat.TEXT)\n",
    "\n",
    "        # Pridobivanje teksta med komentarji\n",
    "        comment_start = starts[comment.id]\n",
    "        comment_end = ends[comment.id]\n",
    "        extracted_nodes_exclusive = ExtractContentHelper.extract_content(comment_start, comment_end, False)\n",
    "        dst_doc = ExtractContentHelper.generate_document(doc, extracted_nodes_exclusive)\n",
    "        marked_text = dst_doc.to_string(aw.SaveFormat.TEXT).strip()\n",
    "        marked_text = clean_text(marked_text)\n",
    "\n",
    "        print(f\"\\tAvtor: {author}\\n\\tDatum in čas: {author_time}\\n\\tKomentar: {comment_text}\\n\\tOznačeno besedilo: '{marked_text}'\")\n",
    "\n",
    "\n",
    "\n",
    "        # Odgovori\n",
    "        if comment.replies.count > 0:\n",
    "            print(f\"\\tOdgovori:\")\n",
    "        for reply in comment.replies:\n",
    "            reply_comment = reply.as_comment()\n",
    "\n",
    "            reply_author = reply_comment.author\n",
    "            reply_author_time = reply_comment.date_time.strftime(\"%Y-%m-%d %H:%M:%S\")\n",
    "            reply_comment_text = reply_comment.to_string(aw.SaveFormat.TEXT)\n",
    "            print(f\"\\t\\tAvtor: {reply_author}\\n\\t\\tDatum in čas: {reply_author_time}\\n\\t\\tKomentar: {reply_comment_text}\")\n",
    "\n",
    "        print(f\"---------------------\\n   KOMENTAR END\\n---------------------\")\n"
   ]
  },
  {
   "cell_type": "markdown",
   "metadata": {},
   "source": [
    "V Aspose dokument naložimo Word dokument. Kot primer uporabimo dokument z ljudsko zgodbico Pšenica najlepši cvet (glej dokument v mapi). "
   ]
  },
  {
   "cell_type": "code",
   "execution_count": 4,
   "metadata": {},
   "outputs": [],
   "source": [
    "doc = aw.Document(\"./Ljudska - Pšenica najlepši cvet.docx\")"
   ]
  },
  {
   "cell_type": "markdown",
   "metadata": {},
   "source": [
    "Pokličemo funkcijo, ki nam bo izpisala komentarje."
   ]
  },
  {
   "cell_type": "code",
   "execution_count": 5,
   "metadata": {},
   "outputs": [
    {
     "name": "stdout",
     "output_type": "stream",
     "text": [
      "Komentarji: \n",
      "---------------------\n",
      "   KOMENTAR START\n",
      "---------------------\n",
      "\tAvtor: Slavko Žitnik\n",
      "\tDatum in čas: 2024-04-29 10:47:00\n",
      "\tKomentar: Ubiti\n",
      "\n",
      "\tOznačeno besedilo: 'Evaluation Only. Created with Aspose.Words. Copyright 2003-2024 Aspose Pty Ltd.\n",
      "pomoriti\n",
      "Created with an evaluation copy of Aspose.Words. To discover the full versions of our APIs please visit: https://products.aspose.com/words/'\n",
      "\tOdgovori:\n",
      "\t\tAvtor: Slavko Žitnik\n",
      "\t\tDatum in čas: 2024-04-29 11:19:00\n",
      "\t\tKomentar: Hm, ali je to res pravi izraz?\n",
      "\n",
      "\n",
      "\t\tAvtor: Slavko Žitnik\n",
      "\t\tDatum in čas: 2024-04-29 11:19:00\n",
      "\t\tKomentar: Ali ne bi bilo bolje uporabiti kaj drugega?\n",
      "\n",
      "---------------------\n",
      "   KOMENTAR END\n",
      "---------------------\n",
      "---------------------\n",
      "   KOMENTAR START\n",
      "---------------------\n",
      "\tAvtor: Slavko Žitnik\n",
      "\tDatum in čas: 2024-04-29 10:48:00\n",
      "\tKomentar: Goro\n",
      "\n",
      "\tOznačeno besedilo: 'Evaluation Only. Created with Aspose.Words. Copyright 2003-2024 Aspose Pty Ltd.\n",
      "hrib\n",
      "Created with an evaluation copy of Aspose.Words. To discover the full versions of our APIs please visit: https://products.aspose.com/words/'\n",
      "\tOdgovori:\n",
      "\t\tAvtor: Slavko Žitnik\n",
      "\t\tDatum in čas: 2024-04-29 10:48:00\n",
      "\t\tKomentar: Hm, ali je res gora?\n",
      "\n",
      "---------------------\n",
      "   KOMENTAR END\n",
      "---------------------\n",
      "---------------------\n",
      "   KOMENTAR START\n",
      "---------------------\n",
      "\tAvtor: Slavko Žitnik\n",
      "\tDatum in čas: 2024-04-29 10:48:00\n",
      "\tKomentar: Zaključek\n",
      "\n",
      "\tOznačeno besedilo: 'Evaluation Only. Created with Aspose.Words. Copyright 2003-2024 Aspose Pty Ltd.\n",
      "Kralja je ganila iskrena otroška ljubezen in dejal je mladeniču: “Moj dragi prijatelj, ker si to storil si mi še dvakrat ljubši kot doslej. Pokazal si, da imaš žlahtno in hvaležno srce. Meni pa si odprl oči. Spregledal sem in spoznal, kako potrebne so nam modrost, izkušenost in znanje starih ljudi, čeprav ne morejo več delati.” Od danes naprej naj velja: Vsak naj se do starih ljudi spoštljivo obnaša! Sinovi in hčere pa naj bodo svojim staršem hvaležni in naj skrbe zanje do poslednje ure njihovega življenja.\n",
      "Created with an evaluation copy of Aspose.Words. To discover the full versions of our APIs please visit: https://products.aspose.com/words/'\n",
      "---------------------\n",
      "   KOMENTAR END\n",
      "---------------------\n"
     ]
    }
   ],
   "source": [
    "# Pridobi osnovne podatke o komentarjih v dokumentu.\n",
    "extract_comments(doc)"
   ]
  },
  {
   "cell_type": "markdown",
   "metadata": {},
   "source": [
    "Pokličemo funkcijo, ki nam bo izpisala celoten dokument."
   ]
  },
  {
   "cell_type": "code",
   "execution_count": 6,
   "metadata": {},
   "outputs": [
    {
     "name": "stdout",
     "output_type": "stream",
     "text": [
      "---------------------\n",
      "   DOKUMENT START\n",
      "---------------------\n",
      "Evaluation Only. Created with Aspose.Words. Copyright 2003-2024 Aspose Pty Ltd.\n",
      "Ljudska: PŠENICA – NAJLEPŠI CVET\n",
      "V prastarih časih je neki kralj ukazal, da morajo pomoriti\n",
      "Ubiti\n",
      "Hm, ali je to res pravi izraz?\n",
      "\n",
      "Ali ne bi bilo bolje uporabiti kaj drugega?\n",
      " vse stare ljudi, ki ne morejo več delati.\n",
      "Živel pa je sin, ki je imel svojega očeta nadvse rad. Ko so kraljevi sli preiskovali deželo, je skril svojega očeta na dvorišču pod velik čeber in skrivaj mu je nosil hrano. Ta velika otroška ljubezen je bila kmalu bogato poplačana.\n",
      "Kralj tiste dežele je imel lepo hčer, pa nobenega sina. Mislil je in mislil, kako bi poročil kraljično z najpametnejšim mladeničem svojega kraljestva, ki naj bi postal tudi njegov naslednik. In izmislil si je tri uganke.\n",
      "Zapovedal je, naj se naslednje jutro zberejo vsi mladeniči njegovega kraljestva navsezgodaj zjutraj pred sončnim vzhodom na visoki gori. Kdor bo prvi zagledal vzhajajoče sonce, bo rešil uganko.\n",
      "Ponoči, preden se je sin odpravil na pot, je prosil očeta- starčka za svet. Oče mu je dejal: “Dragi moj sin! Ko boš prišel na gor, bodo vsi fantje gledali proti vzhodu, kjer se vsako jutro pokaže sonce. Ti pa pokaži vzhodu hrbet, obrni se na drugo stran in poglej proti najvišji gori. Ko bo sonce s prvim žarkom obsvetilo njen vrh, takrat zakliči: Kralj, poglej sonce!”\n",
      "Kot je starček dejal, tako se je zgodilo. Vsi mladeniči, ki so prišli na hrib\n",
      "Goro\n",
      "Hm, ali je res gora?\n",
      ", so nestrpno zrli proti jutranji strani. Sin pa , ki je skril svojega očeta, je gledal na najvišjo goro. Ko je na njen vrh poslalo sonce svoj prvi žarek, je dejal: “Vaše veličanstvo, poglejte sonce!” Kralj ga je potrepljal po ramenu in dejal: “Uganil si!” Drugi mladeniči so ga obstopili in izpraševali: “Le kako, da si se obrnil vstran od sonca?” On pa jim je odvrnil: “In vendar sem prej zagledal sonce kot vi.”\n",
      "Ko se je sin vrnil domov, je dejal očetu: “Danes je bil moj odgovor kralju po volji, ne vem, kako bo jutri. Bojim se, da bo jutrišnja naloga presegla tvojo pamet.” “Le povej”, mu je ukazal starček. In mladenič je nadaljeval: “Drugo uganko bo rešil, kdor bo prišel ne bos in ne obut.” Starček se je nasmehnil in dejal: “To je zelo lahko, vendar tega nihče ne bo zmogel razen tebe. Fantje bodo poskušali to in ono, vsak bo drugače obut: le-ta bo nataknil nogavice, le-oni eno samo nogavico, drugo nogo pa bo imel boso, spet tretji bo le eno nogo obul. Ti pa odtrgaj podplate s čevljem, tako da boš obut in vendar bos.” Tako je mislil tudi kralj.\n",
      "Prišel je določen dan in mladeniči so se zbrali k preizkušnji. Sin je vzdignil obe nogi, da je kralj videl bose podplate, čeprav je bil zgoraj obut. In kralj se je prepričal, da je sin prišel ne bos in ne obut. “Prav imaš”, je menil kralj. Ti, sinko, si že vdrugič natanko pogodil moje želje.\n",
      "Nato je kralj zastavil tretjo uganko. Pojutrišnjem se zberite spet na tem kraju. Kdor bo imel za svojim klobukom zataknjen najlepši cvet, bo zmagal.\n",
      "Starček je komaj pričakal, da se je vrnil sin, in ga je vprašal: “Kakšno nalogo ste sprejeli danes?” “Oh, to je pa že pretirano”, je dejal sin. Le kdo bo med tolikimi lepimi cveticami izbral prav tisto, ki se kralju zdi najlepša. Dragi sin, je odvrnil oče. Na tem svetu ni lepšega cveta, kot je pšenični klas. Zatakni si ga za klobuk in videl boš, da si pravo zadel. Naredil bom, kot ste mi naročili, očka, je dejal sin in utrgal žitni klas na njivi.\n",
      "Prišel je dan in mladeniči so trumoma hiteli na kraj, ki ga je določil kralj. Ko so zagledali pšenični klas za njegovim klobukom, so se na ves glas smejali: “Tepec, pšenični klas ni cvet.”\n",
      "Kralj je že od daleč zagledal mladeniča s pšeničnim klasom. Šel je k njemu in ga objel rekoč: “Ti, moj dragi sin, boš nasledil moj prestol. Kajti, ni ga lepšega cveta, kot je pšenični klas.”\n",
      "Nato se je obrnil k mladeničem: “Ali je še kaj lepšega na svetu kot pogled na njivo zlate pšenice, ki valovi v vetru.” In kaj diši bolj zamamno kot hleb pšeničnega kruha, ki ga še toplega postavimo iz peči na mizo. Nobena vrtna cvetica ne diši tako lepo. Skrbno sejete najlepši cvet, še skrbneje ga žanjite! Nato se je kralj spet obrnil k mladeniču s pšeničnim klasom za klobukom in ga vprašal: “Sin moj, le od kod si vzel toliko modrosti v tvojih letih?” Mladenič se je prestrašil in ni vedel, kaj naj odgovori. Slednjič se je opogumil in dejal: “Vaše veličanstvo, povedal bi vam, če se ne bi bal stroge kazni.”\n",
      "“Ne boj se”, mu je prijazno rekel kralj. Mladenič je pričel: “Ko ste ukazali, da moramo umoriti svoje starše sem stopil pred svojega očeta in dejal: Ljubi oče, vi ste mi poklonili življenje, me ljubeznivo hranili in vzgojili, v zahvalo pa naj vam jaz vzamem vaše življenje. Ne, moje srce tega ne bi preneslo. Raje vidim, da mene kaznujejo s smrtjo. Nato mi je oče odgovoril: Dragi moj sin, izteši velik čeber in povezni ga v kot na dvorišču. Zadaj pa naredi odprtino, da bom mogel kdaj pa kdaj na svetlo. Ti pa mi boš skrivaj prinašal hrane. Storil sem tako in do danes ohranil pri življenju mojega ljubega očeta. Kolikokrat mi je dal napotil in nasvetov, prav tako kot je tudi tokrat le on razvozlal vse tri uganke.\n",
      "Kralja je ganila iskrena otroška ljubezen in dejal je mladeniču: “Moj dragi prijatelj, ker si to storil si mi še dvakrat ljubši kot doslej. Pokazal si, da imaš žlahtno in hvaležno srce. Meni pa si odprl oči. Spregledal sem in spoznal, kako potrebne so nam modrost, izkušenost in znanje starih ljudi, čeprav ne morejo več delati.” Od danes naprej naj velja: Vsak naj se do starih ljudi spoštljivo obnaša! Sinovi in hčere pa naj bodo svojim staršem hvaležni in naj skrbe zanje do poslednje ure njihovega življenja.\n",
      "Zaključek\n",
      "\n",
      "Vir: Wikivir \n",
      "\n",
      "\n",
      "Created with an evaluation copy of Aspose.Words. To discover the full versions of our APIs please visit: https://products.aspose.com/words/\n",
      "\n",
      "\n",
      "---------------------\n",
      "   DOKUMENT END\n",
      "---------------------\n"
     ]
    }
   ],
   "source": [
    "# Izpiši besedilo celega dokumenta\n",
    "print(f\"---------------------\\n   DOKUMENT START\\n---------------------\")\n",
    "print(clean_text(doc.to_string(aw.SaveFormat.TEXT)))\n",
    "print(f\"---------------------\\n   DOKUMENT END\\n---------------------\")"
   ]
  }
 ],
 "metadata": {
  "kernelspec": {
   "display_name": ".venv1",
   "language": "python",
   "name": "python3"
  },
  "language_info": {
   "codemirror_mode": {
    "name": "ipython",
    "version": 3
   },
   "file_extension": ".py",
   "mimetype": "text/x-python",
   "name": "python",
   "nbconvert_exporter": "python",
   "pygments_lexer": "ipython3",
   "version": "3.10.13"
  }
 },
 "nbformat": 4,
 "nbformat_minor": 2
}
